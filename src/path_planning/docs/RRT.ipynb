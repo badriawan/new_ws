{
 "cells": [
  {
   "cell_type": "markdown",
   "metadata": {},
   "source": [
    "<h1> Rapidly-Exploring Random Trees (RRT) </h1>\n",
    "\n",
    "<h3> Introduction </h3>\n",
    "\n",
    "Rapidly-Exploring Random Trees (RRT) is a popular algorithm used in robotics for path planning. It is a simple algorithm that is able to efficiently explore the configuration space of a robot and find a path from a start to a goal configuration. The algorithm is based on the idea of building a tree of configurations that are connected by straight-line paths. The tree is built by randomly sampling the configuration space and connecting the sampled configurations to the nearest configuration in the tree. The algorithm is able to efficiently explore the configuration space and find a path from a start to a goal configuration.\n",
    "\n",
    "<h3> Algorithm Pseudocode </h3>\n",
    "\n",
    "The RRT algorithm can be described by the following pseudocode:\n",
    "\n",
    "```plaintext\n",
    "\n",
    "1. Initialize the tree T with the start configuration q_start.\n",
    "2. for i = 1 to N do\n",
    "3. q_rand = RandomSample()\n",
    "4.     q_near = NearestNeighbor(q_rand, T)\n",
    "5.     q_new = Steer(q_near, q_rand)\n",
    "6.     if ObstacleFree(q_near, q_new) then\n",
    "7.         AddVertex(q_new, T)\n",
    "8.         AddEdge(q_near, q_new, T)\n",
    "9.     end if\n",
    "10. end for\n",
    "11. return T\n",
    "\n",
    "````\n",
    "\n",
    "The algorithm starts by initializing the tree T with the start configuration q_start. Then, for a given number of iterations N, the algorithm samples a random configuration q_rand, finds the nearest configuration q_near in the tree T, and steers q_near towards q_rand to obtain a new configuration q_new. If the path from q_near to q_new is obstacle-free, then q_new is added to the tree T and an edge is added between q_near and q_new. The algorithm returns the tree T, which can be used to find a path from the start configuration to the goal configuration.\n",
    "\n"
   ]
  },
  {
   "cell_type": "markdown",
   "metadata": {},
   "source": [
    "<h3> Flowchart </h3>"
   ]
  },
  {
   "cell_type": "markdown",
   "metadata": {},
   "source": [
    "![RRT Flowchart](img/rrt_1.drawio.png)\n"
   ]
  },
  {
   "cell_type": "markdown",
   "metadata": {},
   "source": [
    "<h3> Resources </h3>\n",
    "\n",
    "Official RRT Paper: https://msl.cs.illinois.edu/~lavalle/papers/Lav98c.pdf\n",
    "\n",
    "Videos:\n",
    "- https://youtu.be/QR3U1dgc5RE?si=zdjSqh0ruPEnYHE5"
   ]
  },
  {
   "cell_type": "markdown",
   "metadata": {},
   "source": [
    "---\n"
   ]
  },
  {
   "cell_type": "markdown",
   "metadata": {},
   "source": [
    "<h2> Design </h2>"
   ]
  },
  {
   "cell_type": "markdown",
   "metadata": {},
   "source": [
    "![RRT High level](img/HighLevel.drawio.png)"
   ]
  },
  {
   "cell_type": "markdown",
   "metadata": {},
   "source": [
    "<h3> Tests </h3>\n",
    "\n",
    "Unit Tests:\n",
    "- Initialize Tree\n",
    "    - Checks if the tree is initialized with the start configuration q_start.\n",
    "    - Should have size = 1.\n",
    "- Random Sample\n",
    "    - Checks if the random sample is within the bounds of the configuration space.\n",
    "    - Should be within the bounds.\n",
    "- Nearest Neighbor\n",
    "    - Checks if the nearest neighbor is found in the tree T.\n",
    "    - Should be within the tree.\n",
    "- Steer\n",
    "    - Checks if the new configuration is steered towards the random configuration.\n",
    "    - Should be within the bounds.\n",
    "- Collision Check\n",
    "    - Checks if the path from q_near to q_new is obstacle-free.\n",
    "    - Should be obstacle-free.\n",
    "\n",
    "\n",
    "\n"
   ]
  },
  {
   "cell_type": "markdown",
   "metadata": {},
   "source": [
    "---"
   ]
  }
 ],
 "metadata": {
  "language_info": {
   "name": "python"
  }
 },
 "nbformat": 4,
 "nbformat_minor": 2
}
